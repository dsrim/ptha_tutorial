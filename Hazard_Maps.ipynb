{
 "cells": [
  {
   "cell_type": "markdown",
   "metadata": {},
   "source": [
    "# Tsunami Hazard Maps\n",
    "\n",
    "This notebook introduces some ideas currently being used to produce hazard maps for tsunamis."
   ]
  },
  {
   "cell_type": "markdown",
   "metadata": {},
   "source": [
    "First Set up some stuff for the notebook..."
   ]
  },
  {
   "cell_type": "code",
   "execution_count": 1,
   "metadata": {
    "collapsed": false
   },
   "outputs": [],
   "source": [
    "%pylab inline"
   ]
  },
  {
   "cell_type": "code",
   "execution_count": 19,
   "metadata": {
    "collapsed": false
   },
   "outputs": [],
   "source": [
    "from IPython.html.widgets import interact\n",
    "from IPython.display import Image, display\n",
    "import hazard_maps_functions as HM\n",
    "reload(HM)"
   ]
  },
  {
   "cell_type": "markdown",
   "metadata": {},
   "source": [
    "## Crescent City, California\n",
    "\n",
    "As an example we will use Crescent City, CA, which is on the coast near the Oregon border.  Crescent City has a history of severe damage from tsunamis.  In particular the the tsunami from the 1964 Alaska earthquake destroyed several blocks of the downtown area, which has since been turned into a park, visible at the far end of the harbor in the photo below."
   ]
  },
  {
   "cell_type": "code",
   "execution_count": 3,
   "metadata": {
    "collapsed": false
   },
   "outputs": [],
   "source": [
    "Image('figures/800px-Crescent_City_California_harbor_aerial_viewUSArmyCorpofEngineeers1.jpg',width=400)"
   ]
  },
  {
   "cell_type": "markdown",
   "metadata": {},
   "source": [
    "The Small Boat Basin visible in the upper right of this photo was also badly damaged in the 2011 Tohoku event (roughly $20 million of damage), primarily from strong currents.\n",
    "\n",
    "### Evacuation map"
   ]
  },
  {
   "cell_type": "code",
   "execution_count": 4,
   "metadata": {
    "collapsed": false
   },
   "outputs": [],
   "source": [
    "Image('figures/CCmapEvac.png', width=400)"
   ]
  },
  {
   "cell_type": "code",
   "execution_count": 5,
   "metadata": {
    "collapsed": false
   },
   "outputs": [],
   "source": [
    "def show_hc(k):\n",
    "    import os  \n",
    "    file_path = os.path.join(HM.hc_dir, HM.hc_plots[k])\n",
    "    display(Image(file_path,width=500))\n",
    "interact(show_hc,k=(0,len(HM.hc_plots)-1))\n"
   ]
  },
  {
   "cell_type": "code",
   "execution_count": 10,
   "metadata": {
    "collapsed": false
   },
   "outputs": [],
   "source": [
    "def show_hmax(k):\n",
    "    import os  \n",
    "    file_path = os.path.join(HM.hmax_dir, HM.hmax_plots[k])\n",
    "    display(Image(file_path,width=500))\n",
    "    print HM.hmax_plots[k].split('/')[0]\n",
    "\n",
    "interact(show_hmax,k=(0,len(HM.hmax_plots)-1))"
   ]
  },
  {
   "cell_type": "code",
   "execution_count": 15,
   "metadata": {
    "collapsed": false
   },
   "outputs": [],
   "source": [
    "def show_zeta(k):\n",
    "    import os  \n",
    "    file_path = os.path.join(HM.zeta_contours_dir, HM.zeta_contours_plots[k])\n",
    "    display(Image(file_path,width=500))\n",
    "\n",
    "interact(show_zeta,k=(0,len(HM.zeta_contours_plots)-1))"
   ]
  },
  {
   "cell_type": "code",
   "execution_count": 20,
   "metadata": {
    "collapsed": false
   },
   "outputs": [],
   "source": [
    "def show_p(k):\n",
    "    import os  \n",
    "    file_path = os.path.join(HM.p_contours_dir, HM.p_contours_plots[k])\n",
    "    display(Image(file_path,width=500))\n",
    "\n",
    "interact(show_p,k=(0,len(HM.p_contours_plots)-1))"
   ]
  },
  {
   "cell_type": "code",
   "execution_count": null,
   "metadata": {
    "collapsed": true
   },
   "outputs": [],
   "source": []
  }
 ],
 "metadata": {
  "kernelspec": {
   "display_name": "Python 2",
   "language": "python",
   "name": "python2"
  },
  "language_info": {
   "codemirror_mode": {
    "name": "ipython",
    "version": 2
   },
   "file_extension": ".py",
   "mimetype": "text/x-python",
   "name": "python",
   "nbconvert_exporter": "python",
   "pygments_lexer": "ipython2",
   "version": "2.7.10"
  }
 },
 "nbformat": 4,
 "nbformat_minor": 0
}
