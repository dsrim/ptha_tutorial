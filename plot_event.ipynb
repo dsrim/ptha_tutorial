{
 "cells": [
  {
   "cell_type": "code",
   "execution_count": 1,
   "metadata": {
    "collapsed": false
   },
   "outputs": [],
   "source": [
    "%pylab inline"
   ]
  },
  {
   "cell_type": "code",
   "execution_count": 2,
   "metadata": {
    "collapsed": true
   },
   "outputs": [],
   "source": [
    "import sys, os\n",
    "top_dir = '/Users/rjl/student_workshop2'\n",
    "codes_dir = os.path.join(top_dir, 'Codes')\n",
    "sys.path.append(codes_dir)"
   ]
  },
  {
   "cell_type": "code",
   "execution_count": 3,
   "metadata": {
    "collapsed": true
   },
   "outputs": [],
   "source": [
    "CCmap = imread('/Users/rjl/student_workshop2/maps/CCmap-small.png')\n",
    "extent = (235.79781, 235.82087, 41.739671,41.762726)   #small region"
   ]
  },
  {
   "cell_type": "code",
   "execution_count": 6,
   "metadata": {
    "collapsed": false
   },
   "outputs": [],
   "source": [
    "def plot_CCmap():\n",
    "    fig = figure(figsize=(6,6))\n",
    "    ax = axes()\n",
    "    imshow(CCmap,extent=extent)\n",
    "    CClatitude = 41.75  # to rescale longitude\n",
    "    ax.set_aspect(1. / cos(pi*CClatitude/180.)) \n",
    "    ax.ticklabel_format(format='plain',useOffset=False)\n",
    "plot_CCmap()"
   ]
  },
  {
   "cell_type": "code",
   "execution_count": 7,
   "metadata": {
    "collapsed": true
   },
   "outputs": [],
   "source": [
    "fixed_grid_file = os.path.join(top_dir, 'Datafiles/fixedgrid_xyB_small.npy')\n",
    "d=load(fixed_grid_file)\n",
    "x=d[:,0]\n",
    "y=d[:,1]\n",
    "B=d[:,2]"
   ]
  },
  {
   "cell_type": "code",
   "execution_count": 15,
   "metadata": {
    "collapsed": false
   },
   "outputs": [],
   "source": [
    "topo = reshape(B, (250,250), order='F')\n",
    "X = reshape(x, (250,250), order='F')\n",
    "Y = reshape(y, (250,250), order='F')\n",
    "contour(X,Y,topo,[0.], colors='r')"
   ]
  },
  {
   "cell_type": "code",
   "execution_count": 11,
   "metadata": {
    "collapsed": false
   },
   "outputs": [],
   "source": [
    "plot_CCmap()\n",
    "contour(X,Y,topo,[0.], colors='r')\n",
    "clines = linspace(2,20,10)\n",
    "contour(X,Y,topo,clines, colors='w')"
   ]
  },
  {
   "cell_type": "code",
   "execution_count": 13,
   "metadata": {
    "collapsed": false
   },
   "outputs": [],
   "source": [
    "realizations_dir = os.path.join(top_dir, 'Realizations')\n",
    "event = 'AASZe01r01'\n",
    "event_dir = os.path.join(realizations_dir, event)\n",
    "hmax_file = os.path.join(event_dir, 'tide+077', 'h_eta_small.npy')\n",
    "hmax = load(hmax_file)\n",
    "Hmax = hmax.reshape((250,250),order='F')"
   ]
  },
  {
   "cell_type": "code",
   "execution_count": 14,
   "metadata": {
    "collapsed": false
   },
   "outputs": [],
   "source": [
    "plot_CCmap()\n",
    "clines = [0.01, 0.5, 1., 1.5, 2., 2.5, 3]\n",
    "contourf(X,Y,Hmax,clines,alpha = 0.6)\n",
    "colorbar()"
   ]
  },
  {
   "cell_type": "code",
   "execution_count": 27,
   "metadata": {
    "collapsed": false
   },
   "outputs": [],
   "source": [
    "fig = figure(figsize=(6,6))\n",
    "ax = axes()\n",
    "\n",
    "H_clines = [0.01, 0.5, 1., 1.5, 2., 2.5, 3]\n",
    "contourf(X,Y,Hmax,H_clines)\n",
    "colorbar()\n",
    "\n",
    "contour(X,Y,topo,[0.], colors='r')\n",
    "topo_clines = linspace(2,20,10)\n",
    "contour(X,Y,topo,topo_clines, colors='k')\n",
    "\n",
    "CClatitude = 41.75  # to rescale longitude\n",
    "ax.set_aspect(1. / cos(pi*CClatitude/180.)) \n",
    "ax.ticklabel_format(format='plain',useOffset=False)"
   ]
  },
  {
   "cell_type": "code",
   "execution_count": null,
   "metadata": {
    "collapsed": true
   },
   "outputs": [],
   "source": []
  }
 ],
 "metadata": {
  "kernelspec": {
   "display_name": "Python 2",
   "language": "python",
   "name": "python2"
  },
  "language_info": {
   "codemirror_mode": {
    "name": "ipython",
    "version": 2
   },
   "file_extension": ".py",
   "mimetype": "text/x-python",
   "name": "python",
   "nbconvert_exporter": "python",
   "pygments_lexer": "ipython2",
   "version": "2.7.10"
  }
 },
 "nbformat": 4,
 "nbformat_minor": 0
}
