{
 "cells": [
  {
   "cell_type": "code",
   "execution_count": 1,
   "metadata": {
    "collapsed": false
   },
   "outputs": [],
   "source": [
    "%pylab inline"
   ]
  },
  {
   "cell_type": "code",
   "execution_count": 2,
   "metadata": {
    "collapsed": true
   },
   "outputs": [],
   "source": [
    "import sys, os\n",
    "top_dir = '/Users/rjl/student_workshop2'\n",
    "codes_dir = os.path.join(top_dir, 'Codes')\n",
    "sys.path.append(codes_dir)"
   ]
  },
  {
   "cell_type": "code",
   "execution_count": 3,
   "metadata": {
    "collapsed": true
   },
   "outputs": [],
   "source": [
    "CCmap = imread('/Users/rjl/student_workshop2/maps/CCmap-small.png')\n",
    "extent = (235.79781, 235.82087, 41.739671,41.762726)   #small region"
   ]
  },
  {
   "cell_type": "code",
   "execution_count": 4,
   "metadata": {
    "collapsed": false
   },
   "outputs": [],
   "source": [
    "def plot_CCmap():\n",
    "    fig = figure(figsize=(6,6))\n",
    "    ax = axes()\n",
    "    imshow(CCmap,extent=extent)\n",
    "    CClatitude = 41.75  # to rescale longitude\n",
    "    ax.set_aspect(1. / cos(pi*CClatitude/180.)) \n",
    "    ax.ticklabel_format(format='plain',useOffset=False)"
   ]
  },
  {
   "cell_type": "code",
   "execution_count": 5,
   "metadata": {
    "collapsed": true
   },
   "outputs": [],
   "source": [
    "fixed_grid_file = os.path.join(top_dir, 'Datafiles/fixedgrid_xyB_small.npy')\n",
    "d=load(fixed_grid_file)\n",
    "x=d[:,0]\n",
    "y=d[:,1]\n",
    "B=d[:,2]\n",
    "topo = reshape(B, (250,250), order='F')\n",
    "X = reshape(x, (250,250), order='F')\n",
    "Y = reshape(y, (250,250), order='F')"
   ]
  },
  {
   "cell_type": "code",
   "execution_count": 6,
   "metadata": {
    "collapsed": false
   },
   "outputs": [],
   "source": [
    "realizations_dir = os.path.join(top_dir, 'Realizations')"
   ]
  },
  {
   "cell_type": "code",
   "execution_count": 10,
   "metadata": {
    "collapsed": false
   },
   "outputs": [],
   "source": [
    "zeta1=[0.0,.1,.2,.3,.4,.5,.6,.7,.8,.9,1.0,1.1,1.2,1.3,1.4,1.5,1.6,1.7,1.8]\n",
    "zeta2=[1.9,2.0,2.5,3.0,3.5,4.0,4.5,5.0,5.5,6.0]\n",
    "zeta3=[7.0,8.0,9.0,10.0,11.0,12.0]\n",
    "zeta=array(zeta1+zeta2+zeta3)\n",
    "nzeta = len(zeta)\n",
    "print '%i exceedance values, zeta = \\n %s' % (nzeta,zeta)\n"
   ]
  },
  {
   "cell_type": "code",
   "execution_count": 19,
   "metadata": {
    "collapsed": false
   },
   "outputs": [],
   "source": [
    "def combine_prob(p1,p2):\n",
    "    return 1. - (1-p1)*(1-p2)"
   ]
  },
  {
   "cell_type": "code",
   "execution_count": 30,
   "metadata": {
    "collapsed": true
   },
   "outputs": [],
   "source": [
    "prob = zeros((250,250,nzeta))  # initialize to zero"
   ]
  },
  {
   "cell_type": "code",
   "execution_count": 31,
   "metadata": {
    "collapsed": true
   },
   "outputs": [],
   "source": [
    "event = 'AASZe01r01'\n",
    "event_dir = os.path.join(realizations_dir, event)\n",
    "hmax_file = os.path.join(event_dir, 'tide+077', 'h_eta_small.npy')\n",
    "hmax = load(hmax_file)\n",
    "Hmax = hmax.reshape((250,250),order='F')\n",
    "p_event = 0.1"
   ]
  },
  {
   "cell_type": "code",
   "execution_count": 35,
   "metadata": {
    "collapsed": true
   },
   "outputs": [],
   "source": [
    "for k in range(nzeta):\n",
    "    Pk = prob[:,:,k]  # probabilities at all points for one exceedance value\n",
    "    prob[:,:,k] = where(Hmax > zeta[k], combine_prob(p_event,Pk), Pk)"
   ]
  },
  {
   "cell_type": "code",
   "execution_count": 36,
   "metadata": {
    "collapsed": false
   },
   "outputs": [],
   "source": [
    "prob.max()"
   ]
  },
  {
   "cell_type": "code",
   "execution_count": 39,
   "metadata": {
    "collapsed": false
   },
   "outputs": [],
   "source": [
    "k = 0\n",
    "plot_CCmap()\n",
    "prob_clines = [1e-5, 1e-4, 1e-3, 1e-2, 1e-1, 1]\n",
    "contourf(X,Y,prob[:,:,k],prob_clines,alpha = 0.6)\n",
    "title(\"Annual probability of flooding above %g meters\" % zeta[k])\n",
    "colorbar()"
   ]
  },
  {
   "cell_type": "code",
   "execution_count": 27,
   "metadata": {
    "collapsed": false
   },
   "outputs": [],
   "source": [
    "fig = figure(figsize=(6,6))\n",
    "ax = axes()\n",
    "\n",
    "H_clines = [0.01, 0.5, 1., 1.5, 2., 2.5, 3]\n",
    "contourf(X,Y,Hmax,H_clines)\n",
    "colorbar()\n",
    "\n",
    "contour(X,Y,topo,[0.], colors='r')\n",
    "topo_clines = linspace(2,20,10)\n",
    "contour(X,Y,topo,topo_clines, colors='k')\n",
    "\n",
    "CClatitude = 41.75  # to rescale longitude\n",
    "ax.set_aspect(1. / cos(pi*CClatitude/180.)) \n",
    "ax.ticklabel_format(format='plain',useOffset=False)"
   ]
  },
  {
   "cell_type": "code",
   "execution_count": null,
   "metadata": {
    "collapsed": true
   },
   "outputs": [],
   "source": []
  }
 ],
 "metadata": {
  "kernelspec": {
   "display_name": "Python 2",
   "language": "python",
   "name": "python2"
  },
  "language_info": {
   "codemirror_mode": {
    "name": "ipython",
    "version": 2
   },
   "file_extension": ".py",
   "mimetype": "text/x-python",
   "name": "python",
   "nbconvert_exporter": "python",
   "pygments_lexer": "ipython2",
   "version": "2.7.10"
  }
 },
 "nbformat": 4,
 "nbformat_minor": 0
}
