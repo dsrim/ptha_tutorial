{
 "cells": [
  {
   "cell_type": "code",
   "execution_count": 1,
   "metadata": {
    "collapsed": false
   },
   "outputs": [],
   "source": [
    "%pylab inline"
   ]
  },
  {
   "cell_type": "code",
   "execution_count": 2,
   "metadata": {
    "collapsed": false
   },
   "outputs": [],
   "source": [
    "import sys, os\n",
    "from IPython.html.widgets import interact\n",
    "from IPython.display import Image, display\n",
    "top_dir = '/Users/rjl/student_workshop2'\n",
    "codes_dir = os.path.join(top_dir, 'Codes')\n",
    "sys.path.append(codes_dir)"
   ]
  },
  {
   "cell_type": "code",
   "execution_count": 3,
   "metadata": {
    "collapsed": true
   },
   "outputs": [],
   "source": [
    "CCmap = imread('/Users/rjl/student_workshop2/maps/CCmap-small.png')\n",
    "extent = (235.79781, 235.82087, 41.739671,41.762726)   #small region"
   ]
  },
  {
   "cell_type": "code",
   "execution_count": 4,
   "metadata": {
    "collapsed": false
   },
   "outputs": [],
   "source": [
    "def plot_CCmap():\n",
    "    fig = figure(figsize=(6,6))\n",
    "    ax = axes()\n",
    "    imshow(CCmap,extent=extent)\n",
    "    CClatitude = 41.75  # to rescale longitude\n",
    "    ax.set_aspect(1. / cos(pi*CClatitude/180.)) \n",
    "    ax.ticklabel_format(format='plain',useOffset=False)\n",
    "    return fig"
   ]
  },
  {
   "cell_type": "code",
   "execution_count": 5,
   "metadata": {
    "collapsed": true
   },
   "outputs": [],
   "source": [
    "fixed_grid_file = os.path.join(top_dir, 'Datafiles/fixedgrid_xyB_small.npy')\n",
    "d=load(fixed_grid_file)\n",
    "x=d[:,0]\n",
    "y=d[:,1]\n",
    "B=d[:,2]\n",
    "topo = reshape(B, (250,250), order='F')\n",
    "X = reshape(x, (250,250), order='F')\n",
    "Y = reshape(y, (250,250), order='F')"
   ]
  },
  {
   "cell_type": "code",
   "execution_count": 6,
   "metadata": {
    "collapsed": false
   },
   "outputs": [],
   "source": [
    "events_dir = os.path.join(top_dir, 'Events')"
   ]
  },
  {
   "cell_type": "code",
   "execution_count": 7,
   "metadata": {
    "collapsed": false
   },
   "outputs": [],
   "source": [
    "zeta1=[0.0,.1,.2,.3,.4,.5,.6,.7,.8,.9,1.0,1.1,1.2,1.3,1.4,1.5,1.6,1.7,1.8]\n",
    "zeta2=[1.9,2.0,2.5,3.0,3.5,4.0,4.5,5.0,5.5,6.0]\n",
    "zeta3=[7.0,8.0,9.0,10.0,11.0,12.0]\n",
    "zeta=array(zeta1+zeta2+zeta3)\n",
    "nzeta = len(zeta)\n",
    "print '%i exceedance values, zeta = \\n %s' % (nzeta,zeta)\n"
   ]
  },
  {
   "cell_type": "code",
   "execution_count": 32,
   "metadata": {
    "collapsed": false
   },
   "outputs": [],
   "source": [
    "zeta = hstack((arange(0,2.,.1), arange(2.0,12.5,.5)))\n",
    "nzeta = len(zeta)\n",
    "print '%i exceedance values, zeta = \\n %s' % (nzeta,zeta)"
   ]
  },
  {
   "cell_type": "code",
   "execution_count": 33,
   "metadata": {
    "collapsed": false
   },
   "outputs": [],
   "source": [
    "def combine_prob(p1,p2):\n",
    "    return 1. - (1-p1)*(1-p2)"
   ]
  },
  {
   "cell_type": "code",
   "execution_count": 34,
   "metadata": {
    "collapsed": true
   },
   "outputs": [],
   "source": [
    "prob = zeros((250,250,nzeta))  # initialize to zero"
   ]
  },
  {
   "cell_type": "code",
   "execution_count": 35,
   "metadata": {
    "collapsed": true
   },
   "outputs": [],
   "source": [
    "event = 'AASZa'\n",
    "event_dir = os.path.join(events_dir, event)\n",
    "hmax_file = os.path.join(event_dir, 'h_eta_small.npy')\n",
    "hmax = load(hmax_file)\n",
    "Hmax = hmax.reshape((250,250),order='F')\n",
    "p_event = 0.1"
   ]
  },
  {
   "cell_type": "code",
   "execution_count": 36,
   "metadata": {
    "collapsed": true
   },
   "outputs": [],
   "source": [
    "for k in range(nzeta):\n",
    "    Pk = prob[:,:,k]  # probabilities at all points for one exceedance value\n",
    "    prob[:,:,k] = where(Hmax > zeta[k], combine_prob(p_event,Pk), Pk)"
   ]
  },
  {
   "cell_type": "code",
   "execution_count": 41,
   "metadata": {
    "collapsed": true
   },
   "outputs": [],
   "source": [
    "prob_clines = [1e-5, 1e-4, 1e-3, 2e-3, 1e-2, 2e-2, 1e-1]\n",
    "nlines = len(prob_clines)\n",
    "n1 = int(floor((nlines-1)/2.))\n",
    "n2 = nlines - 1 - n1\n",
    "Green = hstack([linspace(1,1,n1),linspace(1,0,n2)])\n",
    "Red = hstack([linspace(0,0.8,n1), ones(n2)])\n",
    "Blue = hstack([linspace(1,0.2,n1), zeros(n2)])\n",
    "prob_colors = zip(Red,Green,Blue)"
   ]
  },
  {
   "cell_type": "code",
   "execution_count": 44,
   "metadata": {
    "collapsed": true
   },
   "outputs": [],
   "source": [
    "def plot_pmap(k):\n",
    "    fig = plot_CCmap()\n",
    "    contourf(X ,Y, prob[:,:,k], prob_clines, colors=prob_colors, alpha = 0.6)\n",
    "    title(\"Annual probability of flooding above %g meters\" % zeta[k])\n",
    "    colorbar()\n",
    "    return fig"
   ]
  },
  {
   "cell_type": "code",
   "execution_count": 45,
   "metadata": {
    "collapsed": false
   },
   "outputs": [],
   "source": [
    "interact(plot_pmap, k=(0,nzeta-1,2))"
   ]
  },
  {
   "cell_type": "code",
   "execution_count": 15,
   "metadata": {
    "collapsed": false
   },
   "outputs": [],
   "source": [
    "all_events = \"\"\"AASZa AASZb AASZc AASZd CSZa CSZb CSZc CSZd CSZe CSZf \n",
    "    KmSZa KrSZa SChSZa TOHa\"\"\".split()\n",
    "# print events"
   ]
  },
  {
   "cell_type": "code",
   "execution_count": 16,
   "metadata": {
    "collapsed": true
   },
   "outputs": [],
   "source": [
    "event_prob = {}\n",
    "event_prob['AASZa'] = 1./394.\n",
    "event_prob['AASZb'] = 1./750.\n",
    "event_prob['AASZc'] = 1./563.\n",
    "event_prob['AASZd'] = 1./324.\n",
    "event_prob['CSZa'] = 1./250. * .0125\n",
    "event_prob['CSZb'] = 1./250. * .0125\n",
    "event_prob['CSZc'] = 1./250. * .0750\n",
    "event_prob['CSZd'] = 1./250. * .5000\n",
    "event_prob['CSZe'] = 1./250. * .1750\n",
    "event_prob['CSZf'] = 1./250. * .2250\n",
    "event_prob['KmSZa'] = 1./50.\n",
    "event_prob['KrSZa'] = 1./167.\n",
    "event_prob['SChSZa'] = 1./300.\n",
    "event_prob['TOHa'] = 1./103."
   ]
  },
  {
   "cell_type": "code",
   "execution_count": 17,
   "metadata": {
    "collapsed": false
   },
   "outputs": [],
   "source": [
    "events = all_events\n",
    "#events = \"\"\"AASZa AASZb AASZc AASZd\"\"\".split()"
   ]
  },
  {
   "cell_type": "code",
   "execution_count": 18,
   "metadata": {
    "collapsed": false
   },
   "outputs": [],
   "source": [
    "prob = zeros((250,250,nzeta))  # initialize to zero\n",
    "for event in events:\n",
    "    event_dir = os.path.join(events_dir, event)\n",
    "    hmax_file = os.path.join(event_dir, 'h_eta_small.npy')\n",
    "    hmax = load(hmax_file)\n",
    "    Hmax = hmax.reshape((250,250),order='F')\n",
    "    for k in range(nzeta):\n",
    "        Pk = prob[:,:,k]  # probabilities at all points for one exceedance value\n",
    "        prob[:,:,k] = where(Hmax > zeta[k], combine_prob(event_prob[event],Pk), Pk)"
   ]
  },
  {
   "cell_type": "code",
   "execution_count": 20,
   "metadata": {
    "collapsed": true
   },
   "outputs": [],
   "source": [
    "def plot_pmap(k):\n",
    "    fig = plot_CCmap()\n",
    "    contourf(X,Y,prob[:,:,k],prob_clines,colors=prob_colors,alpha = 0.6)\n",
    "    title(\"Annual probability of flooding above %g meters\" % zeta[k])\n",
    "    colorbar()\n",
    "    return fig"
   ]
  },
  {
   "cell_type": "code",
   "execution_count": 21,
   "metadata": {
    "collapsed": false
   },
   "outputs": [],
   "source": [
    "prob.max()"
   ]
  },
  {
   "cell_type": "code",
   "execution_count": 22,
   "metadata": {
    "collapsed": false,
    "hide_output": false,
    "run_control": {
     "marked": false
    }
   },
   "outputs": [],
   "source": [
    "interact(plot_pmap, k=(0,30,2))"
   ]
  },
  {
   "cell_type": "code",
   "execution_count": 23,
   "metadata": {
    "collapsed": false
   },
   "outputs": [],
   "source": [
    "dx = X[1,0] - X[0,0]\n",
    "dy = Y[0,1] - Y[0,0]\n",
    "nx, ny = X.shape\n",
    "xmin = X.min(); xmax = X.max()\n",
    "ymin = Y.min(); ymax = Y.max()\n",
    "\n",
    "def plot_hcurve(longitude, latitude):\n",
    "    i = (longitude - X[0,0]) / dx\n",
    "    j = (latitude - Y[0,0]) / dy\n",
    "    if (i<0) or (i>=nx) or (j<0) or (j>=ny):\n",
    "        print \"out of domain\"\n",
    "        return \n",
    "    fig = figure(figsize=(12,5))\n",
    "    subplot(1,2,1)\n",
    "    p = maximum(prob[i,j,:], 1e-10)\n",
    "    semilogy(zeta, p, 'b')\n",
    "    ylim(1e-5,1)\n",
    "    \n",
    "    ax = subplot(1,2,2)\n",
    "    imshow(CCmap,extent=extent)\n",
    "    CClatitude = 41.75  # to rescale longitude\n",
    "    ax.set_aspect(1. / cos(pi*CClatitude/180.)) \n",
    "    ax.ticklabel_format(format='plain',useOffset=False)\n",
    "    plot([longitude], [latitude], 'ro')\n",
    "    xlim(xmin,xmax)\n",
    "    ylim(ymin,ymax)\n",
    "    return fig"
   ]
  },
  {
   "cell_type": "code",
   "execution_count": 24,
   "metadata": {
    "collapsed": false
   },
   "outputs": [],
   "source": [
    "interact(plot_hcurve, longitude=(xmin,xmax,.001),latitude=(ymin,ymax,0.001))"
   ]
  },
  {
   "cell_type": "code",
   "execution_count": 25,
   "metadata": {
    "collapsed": false
   },
   "outputs": [],
   "source": [
    "clines = [1e-3] + list(linspace(0.5,4.5,9))\n",
    "nlines = len(clines)\n",
    "n1 = int(floor((nlines-1)/2.))\n",
    "n2 = nlines - 1 - n1\n",
    "Green = hstack([linspace(1,1,n1),linspace(1,0,n2)])\n",
    "Red = hstack([linspace(0,0.8,n1), ones(n2)])\n",
    "Blue = hstack([linspace(1,0.2,n1), zeros(n2)])\n",
    "colors2 = zip(Red,Green,Blue)"
   ]
  },
  {
   "cell_type": "code",
   "execution_count": 26,
   "metadata": {
    "collapsed": false
   },
   "outputs": [],
   "source": [
    "K = prob > 1e-3\n",
    "K[:,:,0] = True\n",
    "#z = zeta[K[:,:,:]]\n",
    "K.shape\n",
    "depth = zeros(X.shape)\n",
    "for i in range(nx):\n",
    "    for j in range(ny):\n",
    "        depth[i,j] = zeta[K[i,j,:]][-1]"
   ]
  },
  {
   "cell_type": "code",
   "execution_count": 27,
   "metadata": {
    "collapsed": false
   },
   "outputs": [],
   "source": [
    "def plot_inundation_map(p):\n",
    "    K = prob > p\n",
    "    K[:,:,0] = True\n",
    "    K.shape\n",
    "    depth = zeros(X.shape)\n",
    "    for i in range(nx):\n",
    "        for j in range(ny):\n",
    "            depth[i,j] = zeta[K[i,j,:]][-1]\n",
    "            \n",
    "    fig = plot_CCmap()\n",
    "    contourf(X,Y,depth,clines,alpha = 0.6)\n",
    "    title(\"Depth of flooding for annual probability %g\" % p)\n",
    "    colorbar()\n",
    "    return fig\n",
    "\n",
    "fig = plot_inundation_map(0.005)"
   ]
  },
  {
   "cell_type": "code",
   "execution_count": 28,
   "metadata": {
    "collapsed": false
   },
   "outputs": [],
   "source": [
    "interact(plot_inundation_map, p=(0.00025,0.01,0.00025))"
   ]
  },
  {
   "cell_type": "code",
   "execution_count": null,
   "metadata": {
    "collapsed": true
   },
   "outputs": [],
   "source": []
  }
 ],
 "metadata": {
  "kernelspec": {
   "display_name": "Python 2",
   "language": "python",
   "name": "python2"
  },
  "language_info": {
   "codemirror_mode": {
    "name": "ipython",
    "version": 2
   },
   "file_extension": ".py",
   "mimetype": "text/x-python",
   "name": "python",
   "nbconvert_exporter": "python",
   "pygments_lexer": "ipython2",
   "version": "2.7.10"
  }
 },
 "nbformat": 4,
 "nbformat_minor": 0
}
